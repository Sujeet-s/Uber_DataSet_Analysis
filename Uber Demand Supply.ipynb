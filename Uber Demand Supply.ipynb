{
 "cells": [
  {
   "cell_type": "markdown",
   "id": "5a1206ea",
   "metadata": {},
   "source": [
    "### Loading Dataset"
   ]
  },
  {
   "cell_type": "code",
   "execution_count": 255,
   "id": "11a7cece",
   "metadata": {},
   "outputs": [],
   "source": [
    "import numpy as np\n",
    "import pandas as pd\n",
    "import seaborn as sns\n",
    "import matplotlib.pyplot as plt\n",
    "%matplotlib inline\n",
    "\n",
    "import warnings\n",
    "warnings.filterwarnings('ignore')"
   ]
  },
  {
   "cell_type": "code",
   "execution_count": 256,
   "id": "61399bfb",
   "metadata": {},
   "outputs": [],
   "source": [
    "data= pd.read_csv('Uber Request Data.csv')"
   ]
  },
  {
   "cell_type": "markdown",
   "id": "94009f5f",
   "metadata": {},
   "source": [
    "### Preliminary Analysis"
   ]
  },
  {
   "cell_type": "code",
   "execution_count": 257,
   "id": "8af0f708",
   "metadata": {},
   "outputs": [
    {
     "data": {
      "text/html": [
       "<div>\n",
       "<style scoped>\n",
       "    .dataframe tbody tr th:only-of-type {\n",
       "        vertical-align: middle;\n",
       "    }\n",
       "\n",
       "    .dataframe tbody tr th {\n",
       "        vertical-align: top;\n",
       "    }\n",
       "\n",
       "    .dataframe thead th {\n",
       "        text-align: right;\n",
       "    }\n",
       "</style>\n",
       "<table border=\"1\" class=\"dataframe\">\n",
       "  <thead>\n",
       "    <tr style=\"text-align: right;\">\n",
       "      <th></th>\n",
       "      <th>Request id</th>\n",
       "      <th>Pickup point</th>\n",
       "      <th>Driver id</th>\n",
       "      <th>Status</th>\n",
       "      <th>Request timestamp</th>\n",
       "      <th>Drop timestamp</th>\n",
       "    </tr>\n",
       "  </thead>\n",
       "  <tbody>\n",
       "    <tr>\n",
       "      <th>0</th>\n",
       "      <td>619</td>\n",
       "      <td>Airport</td>\n",
       "      <td>1.0</td>\n",
       "      <td>Trip Completed</td>\n",
       "      <td>11/7/2016 11:51</td>\n",
       "      <td>11/7/2016 13:00</td>\n",
       "    </tr>\n",
       "    <tr>\n",
       "      <th>1</th>\n",
       "      <td>867</td>\n",
       "      <td>Airport</td>\n",
       "      <td>1.0</td>\n",
       "      <td>Trip Completed</td>\n",
       "      <td>11/7/2016 17:57</td>\n",
       "      <td>11/7/2016 18:47</td>\n",
       "    </tr>\n",
       "    <tr>\n",
       "      <th>2</th>\n",
       "      <td>1807</td>\n",
       "      <td>City</td>\n",
       "      <td>1.0</td>\n",
       "      <td>Trip Completed</td>\n",
       "      <td>12/7/2016 9:17</td>\n",
       "      <td>12/7/2016 9:58</td>\n",
       "    </tr>\n",
       "    <tr>\n",
       "      <th>3</th>\n",
       "      <td>2532</td>\n",
       "      <td>Airport</td>\n",
       "      <td>1.0</td>\n",
       "      <td>Trip Completed</td>\n",
       "      <td>12/7/2016 21:08</td>\n",
       "      <td>12/7/2016 22:03</td>\n",
       "    </tr>\n",
       "    <tr>\n",
       "      <th>4</th>\n",
       "      <td>3112</td>\n",
       "      <td>City</td>\n",
       "      <td>1.0</td>\n",
       "      <td>Trip Completed</td>\n",
       "      <td>13-07-2016 08:33:16</td>\n",
       "      <td>13-07-2016 09:25:47</td>\n",
       "    </tr>\n",
       "  </tbody>\n",
       "</table>\n",
       "</div>"
      ],
      "text/plain": [
       "   Request id Pickup point  Driver id          Status    Request timestamp  \\\n",
       "0         619      Airport        1.0  Trip Completed      11/7/2016 11:51   \n",
       "1         867      Airport        1.0  Trip Completed      11/7/2016 17:57   \n",
       "2        1807         City        1.0  Trip Completed       12/7/2016 9:17   \n",
       "3        2532      Airport        1.0  Trip Completed      12/7/2016 21:08   \n",
       "4        3112         City        1.0  Trip Completed  13-07-2016 08:33:16   \n",
       "\n",
       "        Drop timestamp  \n",
       "0      11/7/2016 13:00  \n",
       "1      11/7/2016 18:47  \n",
       "2       12/7/2016 9:58  \n",
       "3      12/7/2016 22:03  \n",
       "4  13-07-2016 09:25:47  "
      ]
     },
     "execution_count": 257,
     "metadata": {},
     "output_type": "execute_result"
    }
   ],
   "source": [
    "#preliminary view at data\n",
    "data.head()"
   ]
  },
  {
   "cell_type": "code",
   "execution_count": 258,
   "id": "9e158a69",
   "metadata": {},
   "outputs": [
    {
     "name": "stdout",
     "output_type": "stream",
     "text": [
      "<class 'pandas.core.frame.DataFrame'>\n",
      "RangeIndex: 6745 entries, 0 to 6744\n",
      "Data columns (total 6 columns):\n",
      " #   Column             Non-Null Count  Dtype  \n",
      "---  ------             --------------  -----  \n",
      " 0   Request id         6745 non-null   int64  \n",
      " 1   Pickup point       6745 non-null   object \n",
      " 2   Driver id          4095 non-null   float64\n",
      " 3   Status             6745 non-null   object \n",
      " 4   Request timestamp  6745 non-null   object \n",
      " 5   Drop timestamp     2831 non-null   object \n",
      "dtypes: float64(1), int64(1), object(4)\n",
      "memory usage: 316.3+ KB\n"
     ]
    }
   ],
   "source": [
    "# basic info for a data\n",
    "data.info()"
   ]
  },
  {
   "cell_type": "code",
   "execution_count": 259,
   "id": "4b39ea65",
   "metadata": {},
   "outputs": [
    {
     "data": {
      "text/plain": [
       "City       3507\n",
       "Airport    3238\n",
       "Name: Pickup point, dtype: int64"
      ]
     },
     "execution_count": 259,
     "metadata": {},
     "output_type": "execute_result"
    }
   ],
   "source": [
    "data['Pickup point'].value_counts()"
   ]
  },
  {
   "cell_type": "code",
   "execution_count": 260,
   "id": "5a32b6cc",
   "metadata": {},
   "outputs": [
    {
     "data": {
      "text/plain": [
       "Trip Completed       2831\n",
       "No Cars Available    2650\n",
       "Cancelled            1264\n",
       "Name: Status, dtype: int64"
      ]
     },
     "execution_count": 260,
     "metadata": {},
     "output_type": "execute_result"
    }
   ],
   "source": [
    "data['Status'].value_counts()"
   ]
  },
  {
   "cell_type": "code",
   "execution_count": null,
   "id": "a331f6f3",
   "metadata": {},
   "outputs": [],
   "source": [
    "# Feedback: \n",
    "# The data is converted to a clean format suitable for analysis in Python. Good job on that. However, the code could have been more concise. Am mentioning the reference for the same:\n",
    "# #Renaming the Date/Time Colomn\n",
    "# df = df.rename(columns={'Date/Time': 'Date_time'})\n",
    "\n",
    "# #Converting the Date_time type into Datetime\n",
    "# df['Date_time'] = pd.to_datetime(df['Date_time'])\n",
    "\n",
    "# #Adding usufull colomns\n",
    "# df['Month'] = df['Date_time'].dt.month_name()\n",
    "# df['Weekday'] = df['Date_time'].dt.weekday_name\n",
    "# df['Day'] = df['Date_time'].dt.day\n",
    "# df['Hour'] = df['Date_time'].dt.hour\n",
    "# df['Minute'] = df['Date_time'].dt.minute\n"
   ]
  },
  {
   "cell_type": "code",
   "execution_count": 261,
   "id": "a5cf4619",
   "metadata": {},
   "outputs": [],
   "source": [
    "# Correcting data types\n",
    "data['Driver id'] = data['Driver id'].astype(str)\n",
    "data['Request id'] = data['Request id'].astype(str)\n",
    "\n"
   ]
  },
  {
   "cell_type": "code",
   "execution_count": 262,
   "id": "c572f3b4",
   "metadata": {},
   "outputs": [
    {
     "data": {
      "text/plain": [
       "DatetimeIndex(['2016-07-12'], dtype='datetime64[ns]', freq=None)"
      ]
     },
     "execution_count": 262,
     "metadata": {},
     "output_type": "execute_result"
    }
   ],
   "source": [
    "pd.to_datetime(['12/7/2016'],dayfirst=True)"
   ]
  },
  {
   "cell_type": "code",
   "execution_count": 263,
   "id": "93e62fd2",
   "metadata": {},
   "outputs": [],
   "source": [
    "# Getting correct data types\n",
    "data['Request timestamp']= pd.to_datetime(data['Request timestamp'],dayfirst=True)\n",
    "data['Drop timestamp']= pd.to_datetime(data['Drop timestamp'],dayfirst=True)"
   ]
  },
  {
   "cell_type": "code",
   "execution_count": 264,
   "id": "ed0be231",
   "metadata": {},
   "outputs": [
    {
     "data": {
      "text/html": [
       "<div>\n",
       "<style scoped>\n",
       "    .dataframe tbody tr th:only-of-type {\n",
       "        vertical-align: middle;\n",
       "    }\n",
       "\n",
       "    .dataframe tbody tr th {\n",
       "        vertical-align: top;\n",
       "    }\n",
       "\n",
       "    .dataframe thead th {\n",
       "        text-align: right;\n",
       "    }\n",
       "</style>\n",
       "<table border=\"1\" class=\"dataframe\">\n",
       "  <thead>\n",
       "    <tr style=\"text-align: right;\">\n",
       "      <th></th>\n",
       "      <th>Request id</th>\n",
       "      <th>Pickup point</th>\n",
       "      <th>Driver id</th>\n",
       "      <th>Status</th>\n",
       "      <th>Request timestamp</th>\n",
       "      <th>Drop timestamp</th>\n",
       "    </tr>\n",
       "  </thead>\n",
       "  <tbody>\n",
       "    <tr>\n",
       "      <th>0</th>\n",
       "      <td>619</td>\n",
       "      <td>Airport</td>\n",
       "      <td>1.0</td>\n",
       "      <td>Trip Completed</td>\n",
       "      <td>2016-07-11 11:51:00</td>\n",
       "      <td>2016-07-11 13:00:00</td>\n",
       "    </tr>\n",
       "    <tr>\n",
       "      <th>1</th>\n",
       "      <td>867</td>\n",
       "      <td>Airport</td>\n",
       "      <td>1.0</td>\n",
       "      <td>Trip Completed</td>\n",
       "      <td>2016-07-11 17:57:00</td>\n",
       "      <td>2016-07-11 18:47:00</td>\n",
       "    </tr>\n",
       "    <tr>\n",
       "      <th>2</th>\n",
       "      <td>1807</td>\n",
       "      <td>City</td>\n",
       "      <td>1.0</td>\n",
       "      <td>Trip Completed</td>\n",
       "      <td>2016-07-12 09:17:00</td>\n",
       "      <td>2016-07-12 09:58:00</td>\n",
       "    </tr>\n",
       "    <tr>\n",
       "      <th>3</th>\n",
       "      <td>2532</td>\n",
       "      <td>Airport</td>\n",
       "      <td>1.0</td>\n",
       "      <td>Trip Completed</td>\n",
       "      <td>2016-07-12 21:08:00</td>\n",
       "      <td>2016-07-12 22:03:00</td>\n",
       "    </tr>\n",
       "    <tr>\n",
       "      <th>4</th>\n",
       "      <td>3112</td>\n",
       "      <td>City</td>\n",
       "      <td>1.0</td>\n",
       "      <td>Trip Completed</td>\n",
       "      <td>2016-07-13 08:33:16</td>\n",
       "      <td>2016-07-13 09:25:47</td>\n",
       "    </tr>\n",
       "  </tbody>\n",
       "</table>\n",
       "</div>"
      ],
      "text/plain": [
       "  Request id Pickup point Driver id          Status   Request timestamp  \\\n",
       "0        619      Airport       1.0  Trip Completed 2016-07-11 11:51:00   \n",
       "1        867      Airport       1.0  Trip Completed 2016-07-11 17:57:00   \n",
       "2       1807         City       1.0  Trip Completed 2016-07-12 09:17:00   \n",
       "3       2532      Airport       1.0  Trip Completed 2016-07-12 21:08:00   \n",
       "4       3112         City       1.0  Trip Completed 2016-07-13 08:33:16   \n",
       "\n",
       "       Drop timestamp  \n",
       "0 2016-07-11 13:00:00  \n",
       "1 2016-07-11 18:47:00  \n",
       "2 2016-07-12 09:58:00  \n",
       "3 2016-07-12 22:03:00  \n",
       "4 2016-07-13 09:25:47  "
      ]
     },
     "execution_count": 264,
     "metadata": {},
     "output_type": "execute_result"
    }
   ],
   "source": [
    "data.head()"
   ]
  },
  {
   "cell_type": "code",
   "execution_count": 265,
   "id": "50973adc",
   "metadata": {},
   "outputs": [
    {
     "data": {
      "text/html": [
       "<div>\n",
       "<style scoped>\n",
       "    .dataframe tbody tr th:only-of-type {\n",
       "        vertical-align: middle;\n",
       "    }\n",
       "\n",
       "    .dataframe tbody tr th {\n",
       "        vertical-align: top;\n",
       "    }\n",
       "\n",
       "    .dataframe thead th {\n",
       "        text-align: right;\n",
       "    }\n",
       "</style>\n",
       "<table border=\"1\" class=\"dataframe\">\n",
       "  <thead>\n",
       "    <tr style=\"text-align: right;\">\n",
       "      <th></th>\n",
       "      <th>Request id</th>\n",
       "      <th>Pickup point</th>\n",
       "      <th>Driver id</th>\n",
       "      <th>Status</th>\n",
       "      <th>Request timestamp</th>\n",
       "      <th>Drop timestamp</th>\n",
       "    </tr>\n",
       "  </thead>\n",
       "  <tbody>\n",
       "  </tbody>\n",
       "</table>\n",
       "</div>"
      ],
      "text/plain": [
       "Empty DataFrame\n",
       "Columns: [Request id, Pickup point, Driver id, Status, Request timestamp, Drop timestamp]\n",
       "Index: []"
      ]
     },
     "execution_count": 265,
     "metadata": {},
     "output_type": "execute_result"
    }
   ],
   "source": [
    "#Checking for any ambiguous data\n",
    "data[(data['Drop timestamp']-data['Request timestamp']).dt.days <0]"
   ]
  },
  {
   "cell_type": "markdown",
   "id": "09f7bc7e",
   "metadata": {},
   "source": [
    "#### *_Q1. Visually identify the most pressing problems for Uber._* \n",
    "- Hint: Create plots to visualize the frequency of requests that get canceled or show 'no cars available'; identify the most problematic types of requests (city to airport/airport to city etc.) and the time slots (early mornings, late evenings etc.) using plots\n"
   ]
  },
  {
   "cell_type": "markdown",
   "id": "0de3aa40",
   "metadata": {},
   "source": [
    "### Availability of Cars"
   ]
  },
  {
   "cell_type": "code",
   "execution_count": 267,
   "id": "66f0c90c",
   "metadata": {},
   "outputs": [
    {
     "name": "stdout",
     "output_type": "stream",
     "text": [
      "\n",
      "\n"
     ]
    },
    {
     "data": {
      "text/plain": [
       "Text(0, 0.5, 'Frequency')"
      ]
     },
     "execution_count": 267,
     "metadata": {},
     "output_type": "execute_result"
    },
    {
     "data": {
      "image/png": "[encoded data removed]",
      "text/plain": [
       "<Figure size 432x288 with 1 Axes>"
      ]
     },
     "metadata": {
      "needs_background": "light"
     },
     "output_type": "display_data"
    }
   ],
   "source": [
    "# Plot of status \n",
    "data['Status'].value_counts().plot.bar()\n",
    "plt.xlabel('Status of Booking')\n",
    "plt.title('Frequency Vs Status')\n",
    "plt.ylabel('Frequency')\n",
    "# More of them have no cars available instead of Cancelled"
   ]
  },
  {
   "cell_type": "code",
   "execution_count": 233,
   "id": "33eda29b",
   "metadata": {},
   "outputs": [
    {
     "data": {
      "image/png": "[encoded data removed]",
      "text/plain": [
       "<Figure size 432x288 with 1 Axes>"
      ]
     },
     "metadata": {},
     "output_type": "display_data"
    }
   ],
   "source": [
    "plt.pie(data['Status'].value_counts(),labels=['Trip Completed','No Cars Available', 'Cancelled'],autopct = '%0.0f%%')\n",
    "plt.show()\n",
    "# 39 % of times cars werent available"
   ]
  },
  {
   "cell_type": "code",
   "execution_count": null,
   "id": "7b24545b",
   "metadata": {},
   "outputs": [],
   "source": [
    "# #Grouping by Hour \n",
    "# df_hour_grouped = df.groupby(['Hour']).count()\n",
    "\n",
    "# #Creating the sub dataframe\n",
    "# df_hour = pd.DataFrame({'Number_of_trips':df_hour_grouped.values[:,0]}, index = df_hour_grouped.index) \n",
    "\n",
    "# df_hour.head()\n",
    "# df_hour.plot(kind='bar', figsize=(8,6))\n",
    "\n",
    "# plt.ylabel('Number of Trips')\n",
    "# plt.title('Trips by Hour')\n",
    "\n",
    "# plt.show()"
   ]
  },
  {
   "cell_type": "code",
   "execution_count": 271,
   "id": "93d09399",
   "metadata": {},
   "outputs": [
    {
     "data": {
      "text/plain": [
       "Text(0, 0.5, 'Requests Count')"
      ]
     },
     "execution_count": 271,
     "metadata": {},
     "output_type": "execute_result"
    },
    {
     "data": {
      "image/png": "[encoded data removed]",
      "text/plain": [
       "<Figure size 432x288 with 1 Axes>"
      ]
     },
     "metadata": {
      "needs_background": "light"
     },
     "output_type": "display_data"
    }
   ],
   "source": [
    "# Plot of requests count in a day\n",
    "pd.DataFrame(data['Request timestamp'].dt.hour.value_counts()).sort_index().plot.bar(color='brown')\n",
    "plt.xlabel('Hour of Day')\n",
    "plt.title('Total Request Breakown by Hour of Day')\n",
    "plt.ylabel('Requests Count')\n",
    "#Maximum demand is in Morning and Evening 5 to 9 "
   ]
  },
  {
   "cell_type": "code",
   "execution_count": 272,
   "id": "27b76f2b",
   "metadata": {},
   "outputs": [
    {
     "data": {
      "text/plain": [
       "Text(0, 0.5, 'Requests Count')"
      ]
     },
     "execution_count": 272,
     "metadata": {},
     "output_type": "execute_result"
    },
    {
     "data": {
      "image/png": "[encoded data removed]",
      "text/plain": [
       "<Figure size 432x288 with 1 Axes>"
      ]
     },
     "metadata": {
      "needs_background": "light"
     },
     "output_type": "display_data"
    }
   ],
   "source": [
    "# Plot of no cars available with hour of day\n",
    "pd.DataFrame(data[data['Status'] == 'No Cars Available']['Request timestamp'].dt.hour.value_counts()).sort_index().plot.bar(color='r')\n",
    "plt.xlabel('Hour of Day')\n",
    "plt.title('Total Requests with No Cars Available')\n",
    "plt.ylabel('Requests Count')\n",
    "# Maximum No cars available are in the evening 5 to 9"
   ]
  },
  {
   "cell_type": "code",
   "execution_count": 274,
   "id": "f0c24df6",
   "metadata": {},
   "outputs": [
    {
     "data": {
      "text/plain": [
       "Text(0, 0.5, 'Requests Count')"
      ]
     },
     "execution_count": 274,
     "metadata": {},
     "output_type": "execute_result"
    },
    {
     "data": {
      "image/png": "[encoded data removed]",
      "text/plain": [
       "<Figure size 432x288 with 1 Axes>"
      ]
     },
     "metadata": {
      "needs_background": "light"
     },
     "output_type": "display_data"
    }
   ],
   "source": [
    "# Plot of cancelled cars\n",
    "pd.DataFrame(data[data['Status'] == 'Cancelled']['Request timestamp'].dt.hour.value_counts()).sort_index().plot.bar()\n",
    "plt.xlabel('Hour of Day')\n",
    "plt.title('Total Requests Cancelled by Driver')\n",
    "plt.ylabel('Requests Count')\n",
    "# Maximum cancelled cars are in morning 5 to 9"
   ]
  },
  {
   "cell_type": "code",
   "execution_count": 237,
   "id": "03bc1d37",
   "metadata": {},
   "outputs": [
    {
     "data": {
      "text/plain": [
       "<AxesSubplot:>"
      ]
     },
     "execution_count": 237,
     "metadata": {},
     "output_type": "execute_result"
    },
    {
     "data": {
      "image/png": "[encoded data removed]",
      "text/plain": [
       "<Figure size 432x288 with 1 Axes>"
      ]
     },
     "metadata": {
      "needs_background": "light"
     },
     "output_type": "display_data"
    }
   ],
   "source": [
    "# Plot of completed trip\n",
    "pd.DataFrame(data[data['Status'] == 'Trip Completed']['Request timestamp'].dt.hour.value_counts()).sort_index().plot.bar()\n",
    "# Complete trips are similar in Morning and Evening"
   ]
  },
  {
   "cell_type": "markdown",
   "id": "552e5d87",
   "metadata": {},
   "source": [
    "### Trip time Analysis"
   ]
  },
  {
   "cell_type": "code",
   "execution_count": 238,
   "id": "3e1c0835",
   "metadata": {},
   "outputs": [],
   "source": [
    "total_time=data['Drop timestamp']-data['Request timestamp']"
   ]
  },
  {
   "cell_type": "code",
   "execution_count": 239,
   "id": "0908fbcb",
   "metadata": {},
   "outputs": [],
   "source": [
    "data['trip_time'] = total_time.dt.seconds/60"
   ]
  },
  {
   "cell_type": "code",
   "execution_count": 240,
   "id": "1910756c",
   "metadata": {},
   "outputs": [
    {
     "data": {
      "text/plain": [
       "52.413752502060596"
      ]
     },
     "execution_count": 240,
     "metadata": {},
     "output_type": "execute_result"
    }
   ],
   "source": [
    "data['trip_time'].mean()"
   ]
  },
  {
   "cell_type": "code",
   "execution_count": 241,
   "id": "76c5b309",
   "metadata": {},
   "outputs": [],
   "source": [
    "data['booking_hour']= data['Request timestamp'].dt.hour"
   ]
  },
  {
   "cell_type": "code",
   "execution_count": 242,
   "id": "acec8c36",
   "metadata": {},
   "outputs": [
    {
     "data": {
      "text/html": [
       "<div>\n",
       "<style scoped>\n",
       "    .dataframe tbody tr th:only-of-type {\n",
       "        vertical-align: middle;\n",
       "    }\n",
       "\n",
       "    .dataframe tbody tr th {\n",
       "        vertical-align: top;\n",
       "    }\n",
       "\n",
       "    .dataframe thead th {\n",
       "        text-align: right;\n",
       "    }\n",
       "</style>\n",
       "<table border=\"1\" class=\"dataframe\">\n",
       "  <thead>\n",
       "    <tr style=\"text-align: right;\">\n",
       "      <th></th>\n",
       "      <th>Request id</th>\n",
       "      <th>Pickup point</th>\n",
       "      <th>Driver id</th>\n",
       "      <th>Status</th>\n",
       "      <th>Request timestamp</th>\n",
       "      <th>Drop timestamp</th>\n",
       "      <th>trip_time</th>\n",
       "      <th>booking_hour</th>\n",
       "    </tr>\n",
       "  </thead>\n",
       "  <tbody>\n",
       "    <tr>\n",
       "      <th>0</th>\n",
       "      <td>619</td>\n",
       "      <td>Airport</td>\n",
       "      <td>1.0</td>\n",
       "      <td>Trip Completed</td>\n",
       "      <td>2016-07-11 11:51:00</td>\n",
       "      <td>2016-07-11 13:00:00</td>\n",
       "      <td>69.000000</td>\n",
       "      <td>11</td>\n",
       "    </tr>\n",
       "    <tr>\n",
       "      <th>1</th>\n",
       "      <td>867</td>\n",
       "      <td>Airport</td>\n",
       "      <td>1.0</td>\n",
       "      <td>Trip Completed</td>\n",
       "      <td>2016-07-11 17:57:00</td>\n",
       "      <td>2016-07-11 18:47:00</td>\n",
       "      <td>50.000000</td>\n",
       "      <td>17</td>\n",
       "    </tr>\n",
       "    <tr>\n",
       "      <th>2</th>\n",
       "      <td>1807</td>\n",
       "      <td>City</td>\n",
       "      <td>1.0</td>\n",
       "      <td>Trip Completed</td>\n",
       "      <td>2016-07-12 09:17:00</td>\n",
       "      <td>2016-07-12 09:58:00</td>\n",
       "      <td>41.000000</td>\n",
       "      <td>9</td>\n",
       "    </tr>\n",
       "    <tr>\n",
       "      <th>3</th>\n",
       "      <td>2532</td>\n",
       "      <td>Airport</td>\n",
       "      <td>1.0</td>\n",
       "      <td>Trip Completed</td>\n",
       "      <td>2016-07-12 21:08:00</td>\n",
       "      <td>2016-07-12 22:03:00</td>\n",
       "      <td>55.000000</td>\n",
       "      <td>21</td>\n",
       "    </tr>\n",
       "    <tr>\n",
       "      <th>4</th>\n",
       "      <td>3112</td>\n",
       "      <td>City</td>\n",
       "      <td>1.0</td>\n",
       "      <td>Trip Completed</td>\n",
       "      <td>2016-07-13 08:33:16</td>\n",
       "      <td>2016-07-13 09:25:47</td>\n",
       "      <td>52.516667</td>\n",
       "      <td>8</td>\n",
       "    </tr>\n",
       "  </tbody>\n",
       "</table>\n",
       "</div>"
      ],
      "text/plain": [
       "  Request id Pickup point Driver id          Status   Request timestamp  \\\n",
       "0        619      Airport       1.0  Trip Completed 2016-07-11 11:51:00   \n",
       "1        867      Airport       1.0  Trip Completed 2016-07-11 17:57:00   \n",
       "2       1807         City       1.0  Trip Completed 2016-07-12 09:17:00   \n",
       "3       2532      Airport       1.0  Trip Completed 2016-07-12 21:08:00   \n",
       "4       3112         City       1.0  Trip Completed 2016-07-13 08:33:16   \n",
       "\n",
       "       Drop timestamp  trip_time  booking_hour  \n",
       "0 2016-07-11 13:00:00  69.000000            11  \n",
       "1 2016-07-11 18:47:00  50.000000            17  \n",
       "2 2016-07-12 09:58:00  41.000000             9  \n",
       "3 2016-07-12 22:03:00  55.000000            21  \n",
       "4 2016-07-13 09:25:47  52.516667             8  "
      ]
     },
     "execution_count": 242,
     "metadata": {},
     "output_type": "execute_result"
    }
   ],
   "source": [
    "data.head()"
   ]
  },
  {
   "cell_type": "code",
   "execution_count": 243,
   "id": "5d138422",
   "metadata": {},
   "outputs": [
    {
     "data": {
      "text/plain": [
       "<AxesSubplot:xlabel='booking_hour'>"
      ]
     },
     "execution_count": 243,
     "metadata": {},
     "output_type": "execute_result"
    },
    {
     "data": {
      "text/plain": [
       "<Figure size 864x288 with 0 Axes>"
      ]
     },
     "metadata": {},
     "output_type": "display_data"
    },
    {
     "data": {
      "image/png": "[encoded data removed]",
      "text/plain": [
       "<Figure size 432x288 with 1 Axes>"
      ]
     },
     "metadata": {
      "needs_background": "light"
     },
     "output_type": "display_data"
    }
   ],
   "source": [
    "# Mean Trip time for different booking hours\n",
    "plt.figure(figsize=(12,4))\n",
    "data[data.trip_time.isnull()==False][['booking_hour','trip_time']].groupby(['booking_hour'])['trip_time'].agg(['mean','median',lambda x: np.quantile(x,0.95)]).plot.bar()\n",
    "# Trip time doesnt vary much"
   ]
  },
  {
   "cell_type": "markdown",
   "id": "5dbbaac4",
   "metadata": {},
   "source": [
    "#### *_Answer 1: The Problem is that booking in the evening are not being able to meet due to lack of supply of cars at that time. There are also large cancelled trips in the morning time_*\n",
    "##### *Few insights:* \n",
    "- Out of all booking 39 % of times cars werent available\n",
    "- Inavailability of Cars peaks at Evening hours (5 to 9)\n",
    "\n",
    "- 12% of trips have been cancelled \n",
    "- Cancelling of trips peaks in Morning hours (5 to 9)\n",
    "\n",
    "#### *_Q2. Find out the gap between supply and demand and show the same using plots._*\n",
    "- Find the time slots when the highest gap exists\n",
    "- Find the types of requests (city-airport or airport-city) for which the gap is the most severe in the identified time slots"
   ]
  },
  {
   "cell_type": "markdown",
   "id": "8ceb9b8d",
   "metadata": {},
   "source": [
    "### Finding Highest Gaps"
   ]
  },
  {
   "cell_type": "code",
   "execution_count": 244,
   "id": "b7d4b802",
   "metadata": {},
   "outputs": [],
   "source": [
    "demand_supply= data.pivot_table(index='booking_hour',columns='Status',aggfunc='count',values='Request id')"
   ]
  },
  {
   "cell_type": "code",
   "execution_count": 245,
   "id": "c4b7f899",
   "metadata": {},
   "outputs": [
    {
     "data": {
      "text/plain": [
       "Index(['Cancelled', 'No Cars Available', 'Trip Completed'], dtype='object', name='Status')"
      ]
     },
     "execution_count": 245,
     "metadata": {},
     "output_type": "execute_result"
    }
   ],
   "source": [
    "demand_supply.columns"
   ]
  },
  {
   "cell_type": "code",
   "execution_count": 246,
   "id": "bd10ddc7",
   "metadata": {},
   "outputs": [],
   "source": [
    "demand_supply['Demand']= demand_supply.sum(axis=1)"
   ]
  },
  {
   "cell_type": "code",
   "execution_count": 247,
   "id": "356f819a",
   "metadata": {},
   "outputs": [],
   "source": [
    "demand_supply['Supply'] = demand_supply['Trip Completed']"
   ]
  },
  {
   "cell_type": "code",
   "execution_count": 248,
   "id": "bf6c33cb",
   "metadata": {},
   "outputs": [],
   "source": [
    "demand_supply['Gap']=demand_supply['Demand']-demand_supply['Supply']"
   ]
  },
  {
   "cell_type": "code",
   "execution_count": 249,
   "id": "0aacdd08",
   "metadata": {},
   "outputs": [],
   "source": [
    "demand_supply.reset_index(level=0,inplace=True)"
   ]
  },
  {
   "cell_type": "code",
   "execution_count": null,
   "id": "115c67d3",
   "metadata": {},
   "outputs": [],
   "source": [
    "# #Univariate analysis on Status column \n",
    "# status = pd.crosstab(index = uberReq[\"Status\"], columns=\"count\")     \n",
    "# status.plot.bar()\n",
    "# #Univariate analysis on Pickup Point column \n",
    "# pick_point = pd.crosstab(index = uberReq[\"Pickup point\"], columns=\"count\")     \n",
    "# pick_point.plot.bar()\n",
    "# #grouping by Status and Pickup point.\n",
    "# uberReq.groupby(['Status', 'Pickup point']).size()\n",
    "# # Visualizing the count of Status and Pickup point bivariate analysis\n",
    "# sns.countplot(x=uberReq['Pickup point'],hue =uberReq['Status'] ,data = uberReq)\n",
    "# #Request and Drop hours\n",
    "# uberReq['Request Hour'] = uberReq['Request timestamp'].dt.hour\n",
    "# #Time Slots\n",
    "# uberReq['Request Time Slot'] = 'Early Morning'\n",
    "# uberReq.loc[uberReq['Request Hour'].between(5,8, inclusive=True),'Request Time Slot'] = 'Morning'\n",
    "# uberReq.loc[uberReq['Request Hour'].between(9,12, inclusive=True),'Request Time Slot'] = 'Late Morning'\n",
    "# uberReq.loc[uberReq['Request Hour'].between(13,16, inclusive=True),'Request Time Slot'] = 'Noon'\n",
    "# uberReq.loc[uberReq['Request Hour'].between(17,21, inclusive=True),'Request Time Slot'] = 'Evening'\n",
    "# uberReq.loc[uberReq['Request Hour'].between(21,24, inclusive=True),'Request Time Slot'] = 'Night'\n",
    "# #As Demand can include trips completed, cancelled or no cars available, we will create a column with 1 as a value\n",
    "# uberReq['Demand'] = 1\n",
    "# #As Supply can only be the trips completed, rest all are excluded, so we will create a column with 1 as a supply value trips completed and 0 otherwise.\n",
    "# uberReq['Supply'] = 0\n",
    "# uberReq.loc[(uberReq['Status'] == 'Trip Completed'),'Supply'] = 1\n",
    "# #Demand Supply Gap can be defined as a difference between Demand and Supply\n",
    "# uberReq['Gap'] = uberReq['Demand'] - uberReq['Supply']\n",
    "# uberReq.loc[uberReq['Gap']==0,'Gap'] = 'Trip Completed'\n",
    "# uberReq.loc[uberReq['Gap']==1,'Gap'] = 'Trip Not Completed'\n"
   ]
  },
  {
   "cell_type": "code",
   "execution_count": 250,
   "id": "e6182263",
   "metadata": {},
   "outputs": [
    {
     "data": {
      "text/plain": [
       "<AxesSubplot:xlabel='booking_hour', ylabel='Gap'>"
      ]
     },
     "execution_count": 250,
     "metadata": {},
     "output_type": "execute_result"
    },
    {
     "data": {
      "image/png": "[encoded data removed]",
      "text/plain": [
       "<Figure size 432x288 with 1 Axes>"
      ]
     },
     "metadata": {
      "needs_background": "light"
     },
     "output_type": "display_data"
    }
   ],
   "source": [
    "sns.barplot(data=demand_supply,x='booking_hour',y='Gap')\n",
    "# Maximum Gap in Demand and Supply is in Evening 6 to 9 pm"
   ]
  },
  {
   "cell_type": "markdown",
   "id": "196f79a0",
   "metadata": {},
   "source": [
    "### Type of Request "
   ]
  },
  {
   "cell_type": "code",
   "execution_count": 251,
   "id": "4b75bc4e",
   "metadata": {},
   "outputs": [],
   "source": [
    "pickup= data.pivot_table(index=['booking_hour','Pickup point'],columns=['Status'],aggfunc='count',values='Request id').fillna(0).reset_index()"
   ]
  },
  {
   "cell_type": "code",
   "execution_count": 252,
   "id": "bd97ab7f",
   "metadata": {},
   "outputs": [
    {
     "data": {
      "text/html": [
       "<div>\n",
       "<style scoped>\n",
       "    .dataframe tbody tr th:only-of-type {\n",
       "        vertical-align: middle;\n",
       "    }\n",
       "\n",
       "    .dataframe tbody tr th {\n",
       "        vertical-align: top;\n",
       "    }\n",
       "\n",
       "    .dataframe thead th {\n",
       "        text-align: right;\n",
       "    }\n",
       "</style>\n",
       "<table border=\"1\" class=\"dataframe\">\n",
       "  <thead>\n",
       "    <tr style=\"text-align: right;\">\n",
       "      <th>Status</th>\n",
       "      <th>booking_hour</th>\n",
       "      <th>Pickup point</th>\n",
       "      <th>Cancelled</th>\n",
       "      <th>No Cars Available</th>\n",
       "      <th>Trip Completed</th>\n",
       "    </tr>\n",
       "  </thead>\n",
       "  <tbody>\n",
       "    <tr>\n",
       "      <th>0</th>\n",
       "      <td>0</td>\n",
       "      <td>Airport</td>\n",
       "      <td>0.0</td>\n",
       "      <td>30.0</td>\n",
       "      <td>23.0</td>\n",
       "    </tr>\n",
       "    <tr>\n",
       "      <th>1</th>\n",
       "      <td>0</td>\n",
       "      <td>City</td>\n",
       "      <td>3.0</td>\n",
       "      <td>26.0</td>\n",
       "      <td>17.0</td>\n",
       "    </tr>\n",
       "    <tr>\n",
       "      <th>2</th>\n",
       "      <td>1</td>\n",
       "      <td>Airport</td>\n",
       "      <td>0.0</td>\n",
       "      <td>29.0</td>\n",
       "      <td>13.0</td>\n",
       "    </tr>\n",
       "    <tr>\n",
       "      <th>3</th>\n",
       "      <td>1</td>\n",
       "      <td>City</td>\n",
       "      <td>4.0</td>\n",
       "      <td>27.0</td>\n",
       "      <td>12.0</td>\n",
       "    </tr>\n",
       "    <tr>\n",
       "      <th>4</th>\n",
       "      <td>2</td>\n",
       "      <td>Airport</td>\n",
       "      <td>0.0</td>\n",
       "      <td>25.0</td>\n",
       "      <td>16.0</td>\n",
       "    </tr>\n",
       "  </tbody>\n",
       "</table>\n",
       "</div>"
      ],
      "text/plain": [
       "Status  booking_hour Pickup point  Cancelled  No Cars Available  \\\n",
       "0                  0      Airport        0.0               30.0   \n",
       "1                  0         City        3.0               26.0   \n",
       "2                  1      Airport        0.0               29.0   \n",
       "3                  1         City        4.0               27.0   \n",
       "4                  2      Airport        0.0               25.0   \n",
       "\n",
       "Status  Trip Completed  \n",
       "0                 23.0  \n",
       "1                 17.0  \n",
       "2                 13.0  \n",
       "3                 12.0  \n",
       "4                 16.0  "
      ]
     },
     "execution_count": 252,
     "metadata": {},
     "output_type": "execute_result"
    }
   ],
   "source": [
    "pickup.head()"
   ]
  },
  {
   "cell_type": "code",
   "execution_count": 253,
   "id": "f6b0b803",
   "metadata": {},
   "outputs": [
    {
     "data": {
      "text/html": [
       "<div>\n",
       "<style scoped>\n",
       "    .dataframe tbody tr th:only-of-type {\n",
       "        vertical-align: middle;\n",
       "    }\n",
       "\n",
       "    .dataframe tbody tr th {\n",
       "        vertical-align: top;\n",
       "    }\n",
       "\n",
       "    .dataframe thead th {\n",
       "        text-align: right;\n",
       "    }\n",
       "</style>\n",
       "<table border=\"1\" class=\"dataframe\">\n",
       "  <thead>\n",
       "    <tr style=\"text-align: right;\">\n",
       "      <th>Status</th>\n",
       "      <th>booking_hour</th>\n",
       "      <th>Pickup point</th>\n",
       "      <th>Cancelled</th>\n",
       "      <th>No Cars Available</th>\n",
       "      <th>Trip Completed</th>\n",
       "      <th>gap</th>\n",
       "    </tr>\n",
       "  </thead>\n",
       "  <tbody>\n",
       "    <tr>\n",
       "      <th>0</th>\n",
       "      <td>0</td>\n",
       "      <td>Airport</td>\n",
       "      <td>0.0</td>\n",
       "      <td>30.0</td>\n",
       "      <td>23.0</td>\n",
       "      <td>30.0</td>\n",
       "    </tr>\n",
       "    <tr>\n",
       "      <th>1</th>\n",
       "      <td>0</td>\n",
       "      <td>City</td>\n",
       "      <td>3.0</td>\n",
       "      <td>26.0</td>\n",
       "      <td>17.0</td>\n",
       "      <td>29.0</td>\n",
       "    </tr>\n",
       "    <tr>\n",
       "      <th>2</th>\n",
       "      <td>1</td>\n",
       "      <td>Airport</td>\n",
       "      <td>0.0</td>\n",
       "      <td>29.0</td>\n",
       "      <td>13.0</td>\n",
       "      <td>29.0</td>\n",
       "    </tr>\n",
       "    <tr>\n",
       "      <th>3</th>\n",
       "      <td>1</td>\n",
       "      <td>City</td>\n",
       "      <td>4.0</td>\n",
       "      <td>27.0</td>\n",
       "      <td>12.0</td>\n",
       "      <td>31.0</td>\n",
       "    </tr>\n",
       "    <tr>\n",
       "      <th>4</th>\n",
       "      <td>2</td>\n",
       "      <td>Airport</td>\n",
       "      <td>0.0</td>\n",
       "      <td>25.0</td>\n",
       "      <td>16.0</td>\n",
       "      <td>25.0</td>\n",
       "    </tr>\n",
       "  </tbody>\n",
       "</table>\n",
       "</div>"
      ],
      "text/plain": [
       "Status  booking_hour Pickup point  Cancelled  No Cars Available  \\\n",
       "0                  0      Airport        0.0               30.0   \n",
       "1                  0         City        3.0               26.0   \n",
       "2                  1      Airport        0.0               29.0   \n",
       "3                  1         City        4.0               27.0   \n",
       "4                  2      Airport        0.0               25.0   \n",
       "\n",
       "Status  Trip Completed   gap  \n",
       "0                 23.0  30.0  \n",
       "1                 17.0  29.0  \n",
       "2                 13.0  29.0  \n",
       "3                 12.0  31.0  \n",
       "4                 16.0  25.0  "
      ]
     },
     "execution_count": 253,
     "metadata": {},
     "output_type": "execute_result"
    }
   ],
   "source": [
    "pickup['gap']=pickup[['No Cars Available','Cancelled']].sum(axis=1)\n",
    "pickup.head()"
   ]
  },
  {
   "cell_type": "code",
   "execution_count": 254,
   "id": "09bb9468",
   "metadata": {},
   "outputs": [
    {
     "data": {
      "image/png": "[encoded data removed]",
      "text/plain": [
       "<Figure size 432x288 with 1 Axes>"
      ]
     },
     "metadata": {
      "needs_background": "light"
     },
     "output_type": "display_data"
    }
   ],
   "source": [
    "pickup.pivot_table(values='gap',index='booking_hour',columns='Pickup point',aggfunc='sum').plot.bar()\n",
    "plt.xlabel('Hour of Booking')\n",
    "plt.ylabel('Gap')\n",
    "plt.show()\n",
    "# Higher Gaps are seen from City to Airport in the Morning \n",
    "# Higher Gaps are seen from Airport to City in the Evening"
   ]
  },
  {
   "cell_type": "markdown",
   "id": "0ee5732c",
   "metadata": {},
   "source": [
    "*Answer 2 - Highest Gaps exist in Morning and Evening*\n",
    "- More Severe Gap in Morning (5 to 9) is for City Pickup\n",
    "- More Severe Gap in Evening (5 to 9) is for Airport Pickup\n",
    "\n",
    "### Q3. What do you think is the reason for this issue for the supply-demand gap? Write the answer in less than 100 words.\n",
    "\n",
    "*Answer 3- The reasons for the demand supply gap can be :*\n",
    "- During the morning time : drivers might have a preference to start their day after 9 , thereby we are seeing more cancellations of booking in the morning ( gap is also high in City to Airport further justifying our assumptions).\n",
    "- During the evening time : There is lesser availability of vehicles in the Airport, as drivers might have preference to operate in cities during closure of their service.\n",
    "\n",
    "-  Please refer the presentation for different plots  \n",
    "\n",
    "### Q4.  Recommend some ways to resolve the supply-demand gap.\n",
    "\n",
    "*Answer 4 - Following are some possible approaches:*\n",
    " - Restrict number of cancellations allowed for Drivers , penalize them for more than limited cancellations\n",
    " - Onboard More Cars service providers on the platform\n",
    " - Find out location where Demand < Supply , and shift cars from those location to this place\n",
    " - The drivers can be incentivized more in cases where we see that Demand is higher but Supply is not there. The customers willing to pay extra in such scenarios as well."
   ]
  }
 ],
 "metadata": {
  "kernelspec": {
   "display_name": "Python 3",
   "language": "python",
   "name": "python3"
  },
  "language_info": {
   "codemirror_mode": {
    "name": "ipython",
    "version": 3
   },
   "file_extension": ".py",
   "mimetype": "text/x-python",
   "name": "python",
   "nbconvert_exporter": "python",
   "pygments_lexer": "ipython3",
   "version": "3.8.8"
  }
 },
 "nbformat": 4,
 "nbformat_minor": 5
}
